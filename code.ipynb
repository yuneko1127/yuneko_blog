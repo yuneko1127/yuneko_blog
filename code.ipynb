{
  "nbformat": 4,
  "nbformat_minor": 0,
  "metadata": {
    "colab": {
      "name": "code.ipynb",
      "provenance": [],
      "collapsed_sections": [],
      "authorship_tag": "ABX9TyMRpq/YUuMWGqwxJ5mNBYLw",
      "include_colab_link": true
    },
    "kernelspec": {
      "name": "python3",
      "display_name": "Python 3"
    },
    "language_info": {
      "name": "python"
    }
  },
  "cells": [
    {
      "cell_type": "markdown",
      "metadata": {
        "id": "view-in-github",
        "colab_type": "text"
      },
      "source": [
        "<a href=\"https://colab.research.google.com/github/yuneko1127/yuneko_blog/blob/main/code.ipynb\" target=\"_parent\"><img src=\"https://colab.research.google.com/assets/colab-badge.svg\" alt=\"Open In Colab\"/></a>"
      ]
    },
    {
      "cell_type": "markdown",
      "source": [
        "**インストール**"
      ],
      "metadata": {
        "id": "oeW6IR_j6Odn"
      }
    },
    {
      "cell_type": "code",
      "source": [
        "! pip install mecab-python3 unidic-lite\n",
        "import MeCab"
      ],
      "metadata": {
        "id": "Ay5-ILij3RV9"
      },
      "execution_count": null,
      "outputs": []
    },
    {
      "cell_type": "code",
      "source": [
        "!pip install wikipedia\n",
        "import wikipedia\n",
        "wikipedia.set_lang(\"ja\")"
      ],
      "metadata": {
        "id": "LRPmw-Uus3S4"
      },
      "execution_count": null,
      "outputs": []
    },
    {
      "cell_type": "code",
      "source": [
        "x = \"大宮高校は現在分散登校中です\""
      ],
      "metadata": {
        "id": "hOx1-lhqwUtS"
      },
      "execution_count": null,
      "outputs": []
    },
    {
      "cell_type": "markdown",
      "source": [
        "**形態素解析**"
      ],
      "metadata": {
        "id": "G-LyVFcx3uVU"
      }
    },
    {
      "cell_type": "code",
      "source": [
        "print(MeCab.Tagger().parse(x))"
      ],
      "metadata": {
        "id": "XGlkvA3d3bjr"
      },
      "execution_count": null,
      "outputs": []
    },
    {
      "cell_type": "markdown",
      "source": [
        "**分かち書き**"
      ],
      "metadata": {
        "id": "eTkS6S9h34VN"
      }
    },
    {
      "cell_type": "code",
      "source": [
        "print(MeCab.Tagger(\"-Owakati\").parse(x))"
      ],
      "metadata": {
        "id": "wNEwYImk3lf4"
      },
      "execution_count": null,
      "outputs": []
    },
    {
      "cell_type": "markdown",
      "source": [
        "**読み仮名**"
      ],
      "metadata": {
        "id": "1Mz58PyL4Iwy"
      }
    },
    {
      "cell_type": "code",
      "source": [
        "tagger = MeCab.Tagger()\n",
        "s = tagger.parse(x)\n",
        "print(\"\".join(w.split()[1] for w in s.split(\"\\n\") if w.find(\"\\t\")>0))"
      ],
      "metadata": {
        "id": "LZnKYlCj4KXs"
      },
      "execution_count": null,
      "outputs": []
    },
    {
      "cell_type": "markdown",
      "source": [
        "**すべての結果を出す**"
      ],
      "metadata": {
        "id": "3fEP1Wlu39k-"
      }
    },
    {
      "cell_type": "code",
      "source": [
        "text = x\n",
        "tagger = MeCab.Tagger(\"-Odump\")\n",
        "result = tagger.parse(text)\n",
        "print(result)"
      ],
      "metadata": {
        "id": "huzRFCQZ3r2D"
      },
      "execution_count": null,
      "outputs": []
    },
    {
      "cell_type": "markdown",
      "source": [
        "**WikiPedia** **API**"
      ],
      "metadata": {
        "id": "mpYOR833t_3f"
      }
    },
    {
      "cell_type": "code",
      "metadata": {
        "id": "vOYNOnOpScvf"
      },
      "source": [
        "y = \"自然言語処理\"\n",
        "result = wikipedia.page(y)\n",
        "print(\"Title:\", result.title)\n",
        "print(\"Summary;\",result.summary) \n",
        "print('Url',result.url)"
      ],
      "execution_count": null,
      "outputs": []
    }
  ]
}